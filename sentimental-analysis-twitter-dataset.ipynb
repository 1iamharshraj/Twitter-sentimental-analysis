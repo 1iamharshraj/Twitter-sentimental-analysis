{
 "cells": [
  {
   "cell_type": "code",
   "execution_count": 1,
   "id": "d3fa753b",
   "metadata": {
    "execution": {
     "iopub.execute_input": "2024-03-09T06:57:30.924553Z",
     "iopub.status.busy": "2024-03-09T06:57:30.924041Z",
     "iopub.status.idle": "2024-03-09T06:57:33.332170Z",
     "shell.execute_reply": "2024-03-09T06:57:33.330923Z"
    },
    "papermill": {
     "duration": 2.419348,
     "end_time": "2024-03-09T06:57:33.334734",
     "exception": false,
     "start_time": "2024-03-09T06:57:30.915386",
     "status": "completed"
    },
    "tags": []
   },
   "outputs": [],
   "source": [
    "import re\n",
    "import pickle\n",
    "import numpy as np\n",
    "import pandas as pd\n",
    "import seaborn as sns\n",
    "from wordcloud import WordCloud\n",
    "import matplotlib.pyplot as plt"
   ]
  },
  {
   "cell_type": "code",
   "execution_count": 2,
   "id": "098e5efa",
   "metadata": {
    "execution": {
     "iopub.execute_input": "2024-03-09T06:57:33.351285Z",
     "iopub.status.busy": "2024-03-09T06:57:33.350164Z",
     "iopub.status.idle": "2024-03-09T06:57:38.768812Z",
     "shell.execute_reply": "2024-03-09T06:57:38.768066Z"
    },
    "papermill": {
     "duration": 5.42885,
     "end_time": "2024-03-09T06:57:38.770826",
     "exception": false,
     "start_time": "2024-03-09T06:57:33.341976",
     "status": "completed"
    },
    "tags": []
   },
   "outputs": [
    {
     "data": {
      "text/html": [
       "<div>\n",
       "<style scoped>\n",
       "    .dataframe tbody tr th:only-of-type {\n",
       "        vertical-align: middle;\n",
       "    }\n",
       "\n",
       "    .dataframe tbody tr th {\n",
       "        vertical-align: top;\n",
       "    }\n",
       "\n",
       "    .dataframe thead th {\n",
       "        text-align: right;\n",
       "    }\n",
       "</style>\n",
       "<table border=\"1\" class=\"dataframe\">\n",
       "  <thead>\n",
       "    <tr style=\"text-align: right;\">\n",
       "      <th></th>\n",
       "      <th>sentiment</th>\n",
       "      <th>ids</th>\n",
       "      <th>date</th>\n",
       "      <th>flag</th>\n",
       "      <th>user</th>\n",
       "      <th>text</th>\n",
       "    </tr>\n",
       "  </thead>\n",
       "  <tbody>\n",
       "    <tr>\n",
       "      <th>0</th>\n",
       "      <td>0</td>\n",
       "      <td>1467810369</td>\n",
       "      <td>Mon Apr 06 22:19:45 PDT 2009</td>\n",
       "      <td>NO_QUERY</td>\n",
       "      <td>_TheSpecialOne_</td>\n",
       "      <td>@switchfoot http://twitpic.com/2y1zl - Awww, t...</td>\n",
       "    </tr>\n",
       "    <tr>\n",
       "      <th>1</th>\n",
       "      <td>0</td>\n",
       "      <td>1467810672</td>\n",
       "      <td>Mon Apr 06 22:19:49 PDT 2009</td>\n",
       "      <td>NO_QUERY</td>\n",
       "      <td>scotthamilton</td>\n",
       "      <td>is upset that he can't update his Facebook by ...</td>\n",
       "    </tr>\n",
       "    <tr>\n",
       "      <th>2</th>\n",
       "      <td>0</td>\n",
       "      <td>1467810917</td>\n",
       "      <td>Mon Apr 06 22:19:53 PDT 2009</td>\n",
       "      <td>NO_QUERY</td>\n",
       "      <td>mattycus</td>\n",
       "      <td>@Kenichan I dived many times for the ball. Man...</td>\n",
       "    </tr>\n",
       "    <tr>\n",
       "      <th>3</th>\n",
       "      <td>0</td>\n",
       "      <td>1467811184</td>\n",
       "      <td>Mon Apr 06 22:19:57 PDT 2009</td>\n",
       "      <td>NO_QUERY</td>\n",
       "      <td>ElleCTF</td>\n",
       "      <td>my whole body feels itchy and like its on fire</td>\n",
       "    </tr>\n",
       "    <tr>\n",
       "      <th>4</th>\n",
       "      <td>0</td>\n",
       "      <td>1467811193</td>\n",
       "      <td>Mon Apr 06 22:19:57 PDT 2009</td>\n",
       "      <td>NO_QUERY</td>\n",
       "      <td>Karoli</td>\n",
       "      <td>@nationwideclass no, it's not behaving at all....</td>\n",
       "    </tr>\n",
       "  </tbody>\n",
       "</table>\n",
       "</div>"
      ],
      "text/plain": [
       "   sentiment         ids                          date      flag  \\\n",
       "0          0  1467810369  Mon Apr 06 22:19:45 PDT 2009  NO_QUERY   \n",
       "1          0  1467810672  Mon Apr 06 22:19:49 PDT 2009  NO_QUERY   \n",
       "2          0  1467810917  Mon Apr 06 22:19:53 PDT 2009  NO_QUERY   \n",
       "3          0  1467811184  Mon Apr 06 22:19:57 PDT 2009  NO_QUERY   \n",
       "4          0  1467811193  Mon Apr 06 22:19:57 PDT 2009  NO_QUERY   \n",
       "\n",
       "              user                                               text  \n",
       "0  _TheSpecialOne_  @switchfoot http://twitpic.com/2y1zl - Awww, t...  \n",
       "1    scotthamilton  is upset that he can't update his Facebook by ...  \n",
       "2         mattycus  @Kenichan I dived many times for the ball. Man...  \n",
       "3          ElleCTF    my whole body feels itchy and like its on fire   \n",
       "4           Karoli  @nationwideclass no, it's not behaving at all....  "
      ]
     },
     "execution_count": 2,
     "metadata": {},
     "output_type": "execute_result"
    }
   ],
   "source": [
    "DATASET_COLUMNS  = [\"sentiment\", \"ids\", \"date\", \"flag\", \"user\", \"text\"]\n",
    "DATASET_ENCODING = \"ISO-8859-1\"\n",
    "dataset = pd.read_csv('../input/sentiment140/training.1600000.processed.noemoticon.csv',\n",
    "                      encoding=DATASET_ENCODING , names=DATASET_COLUMNS)\n",
    "dataset.head()"
   ]
  },
  {
   "cell_type": "code",
   "execution_count": 3,
   "id": "0722fd12",
   "metadata": {
    "execution": {
     "iopub.execute_input": "2024-03-09T06:57:38.786384Z",
     "iopub.status.busy": "2024-03-09T06:57:38.785985Z",
     "iopub.status.idle": "2024-03-09T06:57:38.838902Z",
     "shell.execute_reply": "2024-03-09T06:57:38.836950Z"
    },
    "papermill": {
     "duration": 0.063685,
     "end_time": "2024-03-09T06:57:38.841432",
     "exception": false,
     "start_time": "2024-03-09T06:57:38.777747",
     "status": "completed"
    },
    "tags": []
   },
   "outputs": [],
   "source": [
    "dataset = dataset[['sentiment','text']]\n",
    "\n",
    "dataset['sentiment'] = dataset['sentiment'].replace(4,1)"
   ]
  },
  {
   "cell_type": "code",
   "execution_count": 4,
   "id": "c05e0e5f",
   "metadata": {
    "execution": {
     "iopub.execute_input": "2024-03-09T06:57:38.857679Z",
     "iopub.status.busy": "2024-03-09T06:57:38.857301Z",
     "iopub.status.idle": "2024-03-09T06:57:39.299950Z",
     "shell.execute_reply": "2024-03-09T06:57:39.299216Z"
    },
    "papermill": {
     "duration": 0.452985,
     "end_time": "2024-03-09T06:57:39.301897",
     "exception": false,
     "start_time": "2024-03-09T06:57:38.848912",
     "status": "completed"
    },
    "tags": []
   },
   "outputs": [
    {
     "data": {
      "image/png": "[encoded data removed]",
      "text/plain": [
       "<Figure size 640x480 with 1 Axes>"
      ]
     },
     "metadata": {},
     "output_type": "display_data"
    }
   ],
   "source": [
    "ax = dataset.groupby('sentiment').count().plot(kind='bar', title='Distribution of data',\n",
    "                                               legend=False)\n",
    "ax = ax.set_xticklabels(['Negative','Positive'], rotation=0)"
   ]
  },
  {
   "cell_type": "code",
   "execution_count": 5,
   "id": "6c588dd1",
   "metadata": {
    "execution": {
     "iopub.execute_input": "2024-03-09T06:57:39.318696Z",
     "iopub.status.busy": "2024-03-09T06:57:39.318155Z",
     "iopub.status.idle": "2024-03-09T06:57:39.340739Z",
     "shell.execute_reply": "2024-03-09T06:57:39.339814Z"
    },
    "papermill": {
     "duration": 0.033519,
     "end_time": "2024-03-09T06:57:39.342923",
     "exception": false,
     "start_time": "2024-03-09T06:57:39.309404",
     "status": "completed"
    },
    "tags": []
   },
   "outputs": [],
   "source": [
    "contractions = pd.read_csv('../input/contractions/contractions.csv', index_col='Contraction')\n",
    "contractions.index = contractions.index.str.lower()\n",
    "contractions.Meaning = contractions.Meaning.str.lower()\n",
    "contractions_dict = contractions.to_dict()['Meaning']\n",
    "\n",
    "urlPattern        = r\"((http://)[^ ]*|(https://)[^ ]*|(www\\.)[^ ]*)\"\n",
    "userPattern       = '@[^\\s]+'\n",
    "hashtagPattern    = '#[^\\s]+'\n",
    "alphaPattern      = \"[^a-z0-9<>]\"\n",
    "sequencePattern   = r\"(.)\\1\\1+\"\n",
    "seqReplacePattern = r\"\\1\\1\"\n",
    "\n",
    "smileemoji        = r\"[8:=;]['`\\-]?[)d]+\"\n",
    "sademoji          = r\"[8:=;]['`\\-]?\\(+\"\n",
    "neutralemoji      = r\"[8:=;]['`\\-]?[\\/|l*]\"\n",
    "lolemoji          = r\"[8:=;]['`\\-]?p+\"\n",
    "\n",
    "def preprocess_apply(tweet):\n",
    "\n",
    "    tweet = tweet.lower()\n",
    "\n",
    "    # Replace all URls with '<url>'\n",
    "    tweet = re.sub(urlPattern,'<url>',tweet)\n",
    "    # Replace @USERNAME to '<user>'.\n",
    "    tweet = re.sub(userPattern,'<user>', tweet)\n",
    "    \n",
    "    # Replace 3 or more consecutive letters by 2 letter.\n",
    "    tweet = re.sub(sequencePattern, seqReplacePattern, tweet)\n",
    "\n",
    "    # Replace all emojis.\n",
    "    tweet = re.sub(r'<3', '<heart>', tweet)\n",
    "    tweet = re.sub(smileemoji, '<smile>', tweet)\n",
    "    tweet = re.sub(sademoji, '<sadface>', tweet)\n",
    "    tweet = re.sub(neutralemoji, '<neutralface>', tweet)\n",
    "    tweet = re.sub(lolemoji, '<lolface>', tweet)\n",
    "\n",
    "    for contraction, replacement in contractions_dict.items():\n",
    "        tweet = tweet.replace(contraction, replacement)\n",
    "\n",
    "    # Remove non-alphanumeric and symbols\n",
    "    tweet = re.sub(alphaPattern, ' ', tweet)\n",
    "\n",
    "    # Adding space on either side of '/' to seperate words (After replacing URLS).\n",
    "    tweet = re.sub(r'/', ' / ', tweet)\n",
    "    return tweet"
   ]
  },
  {
   "cell_type": "code",
   "execution_count": 6,
   "id": "60c8de0b",
   "metadata": {
    "execution": {
     "iopub.execute_input": "2024-03-09T06:57:39.359207Z",
     "iopub.status.busy": "2024-03-09T06:57:39.358823Z",
     "iopub.status.idle": "2024-03-09T06:58:57.811108Z",
     "shell.execute_reply": "2024-03-09T06:58:57.809702Z"
    },
    "papermill": {
     "duration": 78.469096,
     "end_time": "2024-03-09T06:58:57.819386",
     "exception": false,
     "start_time": "2024-03-09T06:57:39.350290",
     "status": "completed"
    },
    "tags": []
   },
   "outputs": [
    {
     "name": "stdout",
     "output_type": "stream",
     "text": [
      "CPU times: user 1min 18s, sys: 165 ms, total: 1min 18s\n",
      "Wall time: 1min 18s\n"
     ]
    }
   ],
   "source": [
    "%%time\n",
    "dataset['processed_text'] = dataset.text.apply(preprocess_apply)"
   ]
  },
  {
   "cell_type": "markdown",
   "id": "87b216f3",
   "metadata": {
    "papermill": {
     "duration": 0.007003,
     "end_time": "2024-03-09T06:58:57.834758",
     "exception": false,
     "start_time": "2024-03-09T06:58:57.827755",
     "status": "completed"
    },
    "tags": []
   },
   "source": [
    "Let's have a look and see what the processed text looks like."
   ]
  },
  {
   "cell_type": "code",
   "execution_count": 7,
   "id": "695ba20e",
   "metadata": {
    "execution": {
     "iopub.execute_input": "2024-03-09T06:58:57.851118Z",
     "iopub.status.busy": "2024-03-09T06:58:57.850737Z",
     "iopub.status.idle": "2024-03-09T06:58:57.857800Z",
     "shell.execute_reply": "2024-03-09T06:58:57.856540Z"
    },
    "papermill": {
     "duration": 0.017437,
     "end_time": "2024-03-09T06:58:57.859563",
     "exception": false,
     "start_time": "2024-03-09T06:58:57.842126",
     "status": "completed"
    },
    "tags": []
   },
   "outputs": [
    {
     "name": "stdout",
     "output_type": "stream",
     "text": [
      "Text: @switchfoot http://twitpic.com/2y1zl - Awww, that's a bummer.  You shoulda got David Carr of Third Day to do it. ;D\n",
      "Processed: <user> <url>   aww  thatis a bummer   you shoulda got david carr of third day to do it  <smile>\n",
      "Text: is upset that he can't update his Facebook by texting it... and might cry as a result  School today also. Blah!\n",
      "Processed: is upset that he cannot update his facebook by texting it   and might cry as a result  school today also  blah \n",
      "Text: @Kenichan I dived many times for the ball. Managed to save 50%  The rest go out of bounds\n",
      "Processed: <user> i dived many times for the ball  managed to save 50   the rest go out of bounds\n",
      "Text: my whole body feels itchy and like its on fire \n",
      "Processed: my whole body feels itchy and like its on fire \n",
      "Text: @nationwideclass no, it's not behaving at all. i'm mad. why am i here? because I can't see you all over there. \n",
      "Processed: <user> no  it is not behaving at all  i am mad  why am i here  because i cannot see you all over there  \n",
      "Text: @Kwesidei not the whole crew \n",
      "Processed: <user> not the whole crew \n",
      "Text: Need a hug \n",
      "Processed: need a hug \n",
      "Text: @LOLTrish hey  long time no see! Yes.. Rains a bit ,only a bit  LOL , I'm fine thanks , how's you ?\n",
      "Processed: <user> hey  long time no see  yes   rains a bit  only a bit  lol   i am fine thanks   how is you  \n",
      "Text: @Tatiana_K nope they didn't have it \n",
      "Processed: <user> nope they did not have it \n",
      "Text: @twittera que me muera ? \n",
      "Processed: <user> que me muera   \n",
      "Text: spring break in plain city... it's snowing \n",
      "Processed: spring break in plain city   it is snowing \n"
     ]
    }
   ],
   "source": [
    "count=0\n",
    "for row in dataset.itertuples():\n",
    "    print(\"Text:\", row[2])\n",
    "    print(\"Processed:\", row[3])\n",
    "    count+=1\n",
    "    if count>10:\n",
    "        break"
   ]
  },
  {
   "cell_type": "code",
   "execution_count": 8,
   "id": "45adf43b",
   "metadata": {
    "execution": {
     "iopub.execute_input": "2024-03-09T06:58:57.876692Z",
     "iopub.status.busy": "2024-03-09T06:58:57.876142Z",
     "iopub.status.idle": "2024-03-09T06:58:58.042677Z",
     "shell.execute_reply": "2024-03-09T06:58:58.040904Z"
    },
    "papermill": {
     "duration": 0.178255,
     "end_time": "2024-03-09T06:58:58.045397",
     "exception": false,
     "start_time": "2024-03-09T06:58:57.867142",
     "status": "completed"
    },
    "tags": []
   },
   "outputs": [],
   "source": [
    "processedtext = list(dataset['processed_text'])\n",
    "data_pos = processedtext[800000:900000]\n",
    "data_neg = processedtext[700000:800000]\n",
    "dataset  = dataset[700000:900000]"
   ]
  },
  {
   "cell_type": "code",
   "execution_count": 9,
   "id": "e4805e8e",
   "metadata": {
    "execution": {
     "iopub.execute_input": "2024-03-09T06:58:58.062223Z",
     "iopub.status.busy": "2024-03-09T06:58:58.061792Z",
     "iopub.status.idle": "2024-03-09T06:58:58.422559Z",
     "shell.execute_reply": "2024-03-09T06:58:58.420914Z"
    },
    "papermill": {
     "duration": 0.37258,
     "end_time": "2024-03-09T06:58:58.425531",
     "exception": false,
     "start_time": "2024-03-09T06:58:58.052951",
     "status": "completed"
    },
    "tags": []
   },
   "outputs": [],
   "source": [
    "from sklearn.model_selection import train_test_split"
   ]
  },
  {
   "cell_type": "code",
   "execution_count": 10,
   "id": "66c6ce10",
   "metadata": {
    "execution": {
     "iopub.execute_input": "2024-03-09T06:58:58.443240Z",
     "iopub.status.busy": "2024-03-09T06:58:58.442832Z",
     "iopub.status.idle": "2024-03-09T06:58:58.479891Z",
     "shell.execute_reply": "2024-03-09T06:58:58.478926Z"
    },
    "papermill": {
     "duration": 0.048517,
     "end_time": "2024-03-09T06:58:58.481870",
     "exception": false,
     "start_time": "2024-03-09T06:58:58.433353",
     "status": "completed"
    },
    "tags": []
   },
   "outputs": [
    {
     "name": "stdout",
     "output_type": "stream",
     "text": [
      "Data Split done.\n"
     ]
    }
   ],
   "source": [
    "X_data, y_data = np.array(dataset['processed_text']), np.array(dataset['sentiment'])\n",
    "\n",
    "X_train, X_test, y_train, y_test = train_test_split(X_data, y_data,\n",
    "                                                    test_size = 0.05, random_state = 0)\n",
    "print('Data Split done.')"
   ]
  },
  {
   "cell_type": "code",
   "execution_count": 11,
   "id": "165a60ed",
   "metadata": {
    "execution": {
     "iopub.execute_input": "2024-03-09T06:58:58.498814Z",
     "iopub.status.busy": "2024-03-09T06:58:58.498306Z",
     "iopub.status.idle": "2024-03-09T06:59:08.434602Z",
     "shell.execute_reply": "2024-03-09T06:59:08.433465Z"
    },
    "papermill": {
     "duration": 9.94751,
     "end_time": "2024-03-09T06:59:08.437016",
     "exception": false,
     "start_time": "2024-03-09T06:58:58.489506",
     "status": "completed"
    },
    "tags": []
   },
   "outputs": [],
   "source": [
    "from gensim.models import Word2Vec\n",
    "\n",
    "Embedding_dimensions = 100\n",
    "\n",
    "# Creating Word2Vec training dataset.\n",
    "Word2vec_train_data = list(map(lambda x: x.split(), X_train))"
   ]
  },
  {
   "cell_type": "code",
   "execution_count": 12,
   "id": "50da0d11",
   "metadata": {
    "execution": {
     "iopub.execute_input": "2024-03-09T06:59:08.454183Z",
     "iopub.status.busy": "2024-03-09T06:59:08.453521Z",
     "iopub.status.idle": "2024-03-09T06:59:17.550514Z",
     "shell.execute_reply": "2024-03-09T06:59:17.549164Z"
    },
    "papermill": {
     "duration": 9.10817,
     "end_time": "2024-03-09T06:59:17.552866",
     "exception": false,
     "start_time": "2024-03-09T06:59:08.444696",
     "status": "completed"
    },
    "tags": []
   },
   "outputs": [
    {
     "name": "stdout",
     "output_type": "stream",
     "text": [
      "Vocabulary Length: 15685\n",
      "CPU times: user 26 s, sys: 213 ms, total: 26.2 s\n",
      "Wall time: 9.09 s\n"
     ]
    }
   ],
   "source": [
    "%%time\n",
    "\n",
    "# Defining the model and training it.\n",
    "word2vec_model = Word2Vec(Word2vec_train_data,\n",
    "                 vector_size=Embedding_dimensions,\n",
    "                 workers=8,\n",
    "                 min_count=5)\n",
    "\n",
    "print(\"Vocabulary Length:\", len(word2vec_model.wv.key_to_index))"
   ]
  },
  {
   "cell_type": "code",
   "execution_count": 13,
   "id": "3f610d34",
   "metadata": {
    "execution": {
     "iopub.execute_input": "2024-03-09T06:59:17.569488Z",
     "iopub.status.busy": "2024-03-09T06:59:17.569174Z",
     "iopub.status.idle": "2024-03-09T06:59:30.230840Z",
     "shell.execute_reply": "2024-03-09T06:59:30.229381Z"
    },
    "papermill": {
     "duration": 12.672686,
     "end_time": "2024-03-09T06:59:30.233201",
     "exception": false,
     "start_time": "2024-03-09T06:59:17.560515",
     "status": "completed"
    },
    "tags": []
   },
   "outputs": [
    {
     "name": "stderr",
     "output_type": "stream",
     "text": [
      "2024-03-09 06:59:19.541475: E external/local_xla/xla/stream_executor/cuda/cuda_dnn.cc:9261] Unable to register cuDNN factory: Attempting to register factory for plugin cuDNN when one has already been registered\n",
      "2024-03-09 06:59:19.541586: E external/local_xla/xla/stream_executor/cuda/cuda_fft.cc:607] Unable to register cuFFT factory: Attempting to register factory for plugin cuFFT when one has already been registered\n",
      "2024-03-09 06:59:19.688839: E external/local_xla/xla/stream_executor/cuda/cuda_blas.cc:1515] Unable to register cuBLAS factory: Attempting to register factory for plugin cuBLAS when one has already been registered\n"
     ]
    }
   ],
   "source": [
    "# Defining the model input length.\n",
    "input_length = 60\n",
    "\n",
    "from tensorflow.keras.preprocessing.text import Tokenizer\n",
    "from tensorflow.keras.preprocessing.sequence import pad_sequences"
   ]
  },
  {
   "cell_type": "code",
   "execution_count": 14,
   "id": "44d55a9c",
   "metadata": {
    "execution": {
     "iopub.execute_input": "2024-03-09T06:59:30.250481Z",
     "iopub.status.busy": "2024-03-09T06:59:30.249794Z",
     "iopub.status.idle": "2024-03-09T06:59:33.152896Z",
     "shell.execute_reply": "2024-03-09T06:59:33.151414Z"
    },
    "papermill": {
     "duration": 2.914541,
     "end_time": "2024-03-09T06:59:33.155614",
     "exception": false,
     "start_time": "2024-03-09T06:59:30.241073",
     "status": "completed"
    },
    "tags": []
   },
   "outputs": [
    {
     "name": "stdout",
     "output_type": "stream",
     "text": [
      "Tokenizer vocab length: 60000\n"
     ]
    }
   ],
   "source": [
    "vocab_length = 60000\n",
    "\n",
    "tokenizer = Tokenizer(filters=\"\", lower=False, oov_token=\"<oov>\")\n",
    "tokenizer.fit_on_texts(X_data)\n",
    "tokenizer.num_words = vocab_length\n",
    "print(\"Tokenizer vocab length:\", vocab_length)"
   ]
  },
  {
   "cell_type": "code",
   "execution_count": 15,
   "id": "3bd2f172",
   "metadata": {
    "execution": {
     "iopub.execute_input": "2024-03-09T06:59:33.176601Z",
     "iopub.status.busy": "2024-03-09T06:59:33.176181Z",
     "iopub.status.idle": "2024-03-09T06:59:36.236959Z",
     "shell.execute_reply": "2024-03-09T06:59:36.235689Z"
    },
    "papermill": {
     "duration": 3.072528,
     "end_time": "2024-03-09T06:59:36.238961",
     "exception": false,
     "start_time": "2024-03-09T06:59:33.166433",
     "status": "completed"
    },
    "tags": []
   },
   "outputs": [
    {
     "name": "stdout",
     "output_type": "stream",
     "text": [
      "X_train.shape: (190000, 60)\n",
      "X_test.shape : (10000, 60)\n"
     ]
    }
   ],
   "source": [
    "X_train = pad_sequences(tokenizer.texts_to_sequences(X_train), maxlen=input_length)\n",
    "X_test  = pad_sequences(tokenizer.texts_to_sequences(X_test) , maxlen=input_length)\n",
    "\n",
    "print(\"X_train.shape:\", X_train.shape)\n",
    "print(\"X_test.shape :\", X_test.shape)"
   ]
  },
  {
   "cell_type": "code",
   "execution_count": 16,
   "id": "6c38651f",
   "metadata": {
    "execution": {
     "iopub.execute_input": "2024-03-09T06:59:36.256675Z",
     "iopub.status.busy": "2024-03-09T06:59:36.256287Z",
     "iopub.status.idle": "2024-03-09T06:59:36.377465Z",
     "shell.execute_reply": "2024-03-09T06:59:36.376170Z"
    },
    "papermill": {
     "duration": 0.133192,
     "end_time": "2024-03-09T06:59:36.380297",
     "exception": false,
     "start_time": "2024-03-09T06:59:36.247105",
     "status": "completed"
    },
    "tags": []
   },
   "outputs": [
    {
     "name": "stdout",
     "output_type": "stream",
     "text": [
      "Embedding Matrix Shape: (60000, 100)\n"
     ]
    }
   ],
   "source": [
    "embedding_matrix = np.zeros((vocab_length, Embedding_dimensions))\n",
    "\n",
    "for word, token in tokenizer.word_index.items():\n",
    "    if word2vec_model.wv.__contains__(word):\n",
    "        embedding_matrix[token] = word2vec_model.wv.__getitem__(word)\n",
    "\n",
    "print(\"Embedding Matrix Shape:\", embedding_matrix.shape)"
   ]
  },
  {
   "cell_type": "code",
   "execution_count": 17,
   "id": "b9886714",
   "metadata": {
    "execution": {
     "iopub.execute_input": "2024-03-09T06:59:36.397965Z",
     "iopub.status.busy": "2024-03-09T06:59:36.397604Z",
     "iopub.status.idle": "2024-03-09T06:59:36.404166Z",
     "shell.execute_reply": "2024-03-09T06:59:36.403214Z"
    },
    "papermill": {
     "duration": 0.018132,
     "end_time": "2024-03-09T06:59:36.406126",
     "exception": false,
     "start_time": "2024-03-09T06:59:36.387994",
     "status": "completed"
    },
    "tags": []
   },
   "outputs": [],
   "source": [
    "from tensorflow.keras import Sequential\n",
    "from tensorflow.keras.layers import Bidirectional, GlobalMaxPool1D, Dense, LSTM, Conv1D, Embedding"
   ]
  },
  {
   "cell_type": "code",
   "execution_count": 18,
   "id": "da8ef3b8",
   "metadata": {
    "execution": {
     "iopub.execute_input": "2024-03-09T06:59:36.423226Z",
     "iopub.status.busy": "2024-03-09T06:59:36.422861Z",
     "iopub.status.idle": "2024-03-09T06:59:36.429428Z",
     "shell.execute_reply": "2024-03-09T06:59:36.427920Z"
    },
    "papermill": {
     "duration": 0.017716,
     "end_time": "2024-03-09T06:59:36.431663",
     "exception": false,
     "start_time": "2024-03-09T06:59:36.413947",
     "status": "completed"
    },
    "tags": []
   },
   "outputs": [],
   "source": [
    "def getModel():\n",
    "    embedding_layer = Embedding(input_dim=vocab_length,\n",
    "                                output_dim=Embedding_dimensions,\n",
    "                                trainable=False)\n",
    "\n",
    "    model = Sequential([\n",
    "        embedding_layer,\n",
    "        Bidirectional(LSTM(100, dropout=0.3, return_sequences=True)),\n",
    "        Bidirectional(LSTM(100, dropout=0.3, return_sequences=True)),\n",
    "        Conv1D(100, 5, activation='relu'),\n",
    "        GlobalMaxPool1D(),\n",
    "        Dense(16, activation='relu'),\n",
    "        Dense(1, activation='sigmoid'),\n",
    "    ],\n",
    "    name=\"Sentiment_Model\")\n",
    "    return model"
   ]
  },
  {
   "cell_type": "markdown",
   "id": "6be85c37",
   "metadata": {
    "papermill": {
     "duration": 0.007228,
     "end_time": "2024-03-09T06:59:36.446912",
     "exception": false,
     "start_time": "2024-03-09T06:59:36.439684",
     "status": "completed"
    },
    "tags": []
   },
   "source": [
    "### Model Summary"
   ]
  },
  {
   "cell_type": "code",
   "execution_count": 19,
   "id": "fea9f3d9",
   "metadata": {
    "execution": {
     "iopub.execute_input": "2024-03-09T06:59:36.464123Z",
     "iopub.status.busy": "2024-03-09T06:59:36.463386Z",
     "iopub.status.idle": "2024-03-09T06:59:36.536606Z",
     "shell.execute_reply": "2024-03-09T06:59:36.535258Z"
    },
    "papermill": {
     "duration": 0.08417,
     "end_time": "2024-03-09T06:59:36.538386",
     "exception": false,
     "start_time": "2024-03-09T06:59:36.454216",
     "status": "completed"
    },
    "tags": []
   },
   "outputs": [
    {
     "data": {
      "text/html": [
       "<pre style=\"white-space:pre;overflow-x:auto;line-height:normal;font-family:Menlo,'DejaVu Sans Mono',consolas,'Courier New',monospace\"><span style=\"font-weight: bold\">Model: \"Sentiment_Model\"</span>\n",
       "</pre>\n"
      ],
      "text/plain": [
       "\u001b[1mModel: \"Sentiment_Model\"\u001b[0m\n"
      ]
     },
     "metadata": {},
     "output_type": "display_data"
    },
    {
     "data": {
      "text/html": [
       "<pre style=\"white-space:pre;overflow-x:auto;line-height:normal;font-family:Menlo,'DejaVu Sans Mono',consolas,'Courier New',monospace\">┏━━━━━━━━━━━━━━━━━━━━━━━━━━━━━━━━━┳━━━━━━━━━━━━━━━━━━━━━━━━┳━━━━━━━━━━━━━━━┓\n",
       "┃<span style=\"font-weight: bold\"> Layer (type)                    </span>┃<span style=\"font-weight: bold\"> Output Shape           </span>┃<span style=\"font-weight: bold\">       Param # </span>┃\n",
       "┡━━━━━━━━━━━━━━━━━━━━━━━━━━━━━━━━━╇━━━━━━━━━━━━━━━━━━━━━━━━╇━━━━━━━━━━━━━━━┩\n",
       "│ embedding (<span style=\"color: #0087ff; text-decoration-color: #0087ff\">Embedding</span>)           │ ?                      │   <span style=\"color: #00af00; text-decoration-color: #00af00\">0</span> (unbuilt) │\n",
       "├─────────────────────────────────┼────────────────────────┼───────────────┤\n",
       "│ bidirectional (<span style=\"color: #0087ff; text-decoration-color: #0087ff\">Bidirectional</span>)   │ ?                      │   <span style=\"color: #00af00; text-decoration-color: #00af00\">0</span> (unbuilt) │\n",
       "├─────────────────────────────────┼────────────────────────┼───────────────┤\n",
       "│ bidirectional_1 (<span style=\"color: #0087ff; text-decoration-color: #0087ff\">Bidirectional</span>) │ ?                      │   <span style=\"color: #00af00; text-decoration-color: #00af00\">0</span> (unbuilt) │\n",
       "├─────────────────────────────────┼────────────────────────┼───────────────┤\n",
       "│ conv1d (<span style=\"color: #0087ff; text-decoration-color: #0087ff\">Conv1D</span>)                 │ ?                      │   <span style=\"color: #00af00; text-decoration-color: #00af00\">0</span> (unbuilt) │\n",
       "├─────────────────────────────────┼────────────────────────┼───────────────┤\n",
       "│ global_max_pooling1d            │ ?                      │   <span style=\"color: #00af00; text-decoration-color: #00af00\">0</span> (unbuilt) │\n",
       "│ (<span style=\"color: #0087ff; text-decoration-color: #0087ff\">GlobalMaxPooling1D</span>)            │                        │               │\n",
       "├─────────────────────────────────┼────────────────────────┼───────────────┤\n",
       "│ dense (<span style=\"color: #0087ff; text-decoration-color: #0087ff\">Dense</span>)                   │ ?                      │   <span style=\"color: #00af00; text-decoration-color: #00af00\">0</span> (unbuilt) │\n",
       "├─────────────────────────────────┼────────────────────────┼───────────────┤\n",
       "│ dense_1 (<span style=\"color: #0087ff; text-decoration-color: #0087ff\">Dense</span>)                 │ ?                      │   <span style=\"color: #00af00; text-decoration-color: #00af00\">0</span> (unbuilt) │\n",
       "└─────────────────────────────────┴────────────────────────┴───────────────┘\n",
       "</pre>\n"
      ],
      "text/plain": [
       "┏━━━━━━━━━━━━━━━━━━━━━━━━━━━━━━━━━┳━━━━━━━━━━━━━━━━━━━━━━━━┳━━━━━━━━━━━━━━━┓\n",
       "┃\u001b[1m \u001b[0m\u001b[1mLayer (type)                   \u001b[0m\u001b[1m \u001b[0m┃\u001b[1m \u001b[0m\u001b[1mOutput Shape          \u001b[0m\u001b[1m \u001b[0m┃\u001b[1m \u001b[0m\u001b[1m      Param #\u001b[0m\u001b[1m \u001b[0m┃\n",
       "┡━━━━━━━━━━━━━━━━━━━━━━━━━━━━━━━━━╇━━━━━━━━━━━━━━━━━━━━━━━━╇━━━━━━━━━━━━━━━┩\n",
       "│ embedding (\u001b[38;5;33mEmbedding\u001b[0m)           │ ?                      │   \u001b[38;5;34m0\u001b[0m (unbuilt) │\n",
       "├─────────────────────────────────┼────────────────────────┼───────────────┤\n",
       "│ bidirectional (\u001b[38;5;33mBidirectional\u001b[0m)   │ ?                      │   \u001b[38;5;34m0\u001b[0m (unbuilt) │\n",
       "├─────────────────────────────────┼────────────────────────┼───────────────┤\n",
       "│ bidirectional_1 (\u001b[38;5;33mBidirectional\u001b[0m) │ ?                      │   \u001b[38;5;34m0\u001b[0m (unbuilt) │\n",
       "├─────────────────────────────────┼────────────────────────┼───────────────┤\n",
       "│ conv1d (\u001b[38;5;33mConv1D\u001b[0m)                 │ ?                      │   \u001b[38;5;34m0\u001b[0m (unbuilt) │\n",
       "├─────────────────────────────────┼────────────────────────┼───────────────┤\n",
       "│ global_max_pooling1d            │ ?                      │   \u001b[38;5;34m0\u001b[0m (unbuilt) │\n",
       "│ (\u001b[38;5;33mGlobalMaxPooling1D\u001b[0m)            │                        │               │\n",
       "├─────────────────────────────────┼────────────────────────┼───────────────┤\n",
       "│ dense (\u001b[38;5;33mDense\u001b[0m)                   │ ?                      │   \u001b[38;5;34m0\u001b[0m (unbuilt) │\n",
       "├─────────────────────────────────┼────────────────────────┼───────────────┤\n",
       "│ dense_1 (\u001b[38;5;33mDense\u001b[0m)                 │ ?                      │   \u001b[38;5;34m0\u001b[0m (unbuilt) │\n",
       "└─────────────────────────────────┴────────────────────────┴───────────────┘\n"
      ]
     },
     "metadata": {},
     "output_type": "display_data"
    },
    {
     "data": {
      "text/html": [
       "<pre style=\"white-space:pre;overflow-x:auto;line-height:normal;font-family:Menlo,'DejaVu Sans Mono',consolas,'Courier New',monospace\"><span style=\"font-weight: bold\"> Total params: </span><span style=\"color: #00af00; text-decoration-color: #00af00\">0</span> (0.00 B)\n",
       "</pre>\n"
      ],
      "text/plain": [
       "\u001b[1m Total params: \u001b[0m\u001b[38;5;34m0\u001b[0m (0.00 B)\n"
      ]
     },
     "metadata": {},
     "output_type": "display_data"
    },
    {
     "data": {
      "text/html": [
       "<pre style=\"white-space:pre;overflow-x:auto;line-height:normal;font-family:Menlo,'DejaVu Sans Mono',consolas,'Courier New',monospace\"><span style=\"font-weight: bold\"> Trainable params: </span><span style=\"color: #00af00; text-decoration-color: #00af00\">0</span> (0.00 B)\n",
       "</pre>\n"
      ],
      "text/plain": [
       "\u001b[1m Trainable params: \u001b[0m\u001b[38;5;34m0\u001b[0m (0.00 B)\n"
      ]
     },
     "metadata": {},
     "output_type": "display_data"
    },
    {
     "data": {
      "text/html": [
       "<pre style=\"white-space:pre;overflow-x:auto;line-height:normal;font-family:Menlo,'DejaVu Sans Mono',consolas,'Courier New',monospace\"><span style=\"font-weight: bold\"> Non-trainable params: </span><span style=\"color: #00af00; text-decoration-color: #00af00\">0</span> (0.00 B)\n",
       "</pre>\n"
      ],
      "text/plain": [
       "\u001b[1m Non-trainable params: \u001b[0m\u001b[38;5;34m0\u001b[0m (0.00 B)\n"
      ]
     },
     "metadata": {},
     "output_type": "display_data"
    }
   ],
   "source": [
    "training_model = getModel()\n",
    "training_model.summary()"
   ]
  },
  {
   "cell_type": "markdown",
   "id": "161c55ad",
   "metadata": {
    "papermill": {
     "duration": 0.007967,
     "end_time": "2024-03-09T06:59:36.554808",
     "exception": false,
     "start_time": "2024-03-09T06:59:36.546841",
     "status": "completed"
    },
    "tags": []
   },
   "source": [
    "## <a id=\"10\">Training the Model</a>"
   ]
  },
  {
   "cell_type": "code",
   "execution_count": 20,
   "id": "59e91dcd",
   "metadata": {
    "execution": {
     "iopub.execute_input": "2024-03-09T06:59:36.573038Z",
     "iopub.status.busy": "2024-03-09T06:59:36.572613Z",
     "iopub.status.idle": "2024-03-09T06:59:36.581341Z",
     "shell.execute_reply": "2024-03-09T06:59:36.580019Z"
    },
    "papermill": {
     "duration": 0.020165,
     "end_time": "2024-03-09T06:59:36.583181",
     "exception": false,
     "start_time": "2024-03-09T06:59:36.563016",
     "status": "completed"
    },
    "tags": []
   },
   "outputs": [],
   "source": [
    "from tensorflow.keras.callbacks import ReduceLROnPlateau, EarlyStopping\n",
    "\n",
    "callbacks = [ReduceLROnPlateau(monitor='val_loss', patience=5, cooldown=0),\n",
    "             EarlyStopping(monitor='val_accuracy', min_delta=1e-4, patience=5)]"
   ]
  },
  {
   "cell_type": "code",
   "execution_count": 21,
   "id": "fd660823",
   "metadata": {
    "execution": {
     "iopub.execute_input": "2024-03-09T06:59:36.601542Z",
     "iopub.status.busy": "2024-03-09T06:59:36.601199Z",
     "iopub.status.idle": "2024-03-09T06:59:36.617389Z",
     "shell.execute_reply": "2024-03-09T06:59:36.616614Z"
    },
    "papermill": {
     "duration": 0.027711,
     "end_time": "2024-03-09T06:59:36.619440",
     "exception": false,
     "start_time": "2024-03-09T06:59:36.591729",
     "status": "completed"
    },
    "tags": []
   },
   "outputs": [],
   "source": [
    "training_model.compile(loss='binary_crossentropy', optimizer='adam', metrics=['accuracy'])"
   ]
  },
  {
   "cell_type": "code",
   "execution_count": 22,
   "id": "e89624ed",
   "metadata": {
    "execution": {
     "iopub.execute_input": "2024-03-09T06:59:36.638600Z",
     "iopub.status.busy": "2024-03-09T06:59:36.637939Z",
     "iopub.status.idle": "2024-03-09T07:36:43.729443Z",
     "shell.execute_reply": "2024-03-09T07:36:43.727914Z"
    },
    "papermill": {
     "duration": 2227.104012,
     "end_time": "2024-03-09T07:36:43.732064",
     "exception": false,
     "start_time": "2024-03-09T06:59:36.628052",
     "status": "completed"
    },
    "tags": []
   },
   "outputs": [
    {
     "name": "stdout",
     "output_type": "stream",
     "text": [
      "Epoch 1/12\n",
      "\u001b[1m167/167\u001b[0m \u001b[32m━━━━━━━━━━━━━━━━━━━━\u001b[0m\u001b[37m\u001b[0m \u001b[1m313s\u001b[0m 2s/step - accuracy: 0.7069 - loss: 0.5304 - val_accuracy: 0.8164 - val_loss: 0.3945 - learning_rate: 0.0010\n",
      "Epoch 2/12\n",
      "\u001b[1m167/167\u001b[0m \u001b[32m━━━━━━━━━━━━━━━━━━━━\u001b[0m\u001b[37m\u001b[0m \u001b[1m303s\u001b[0m 2s/step - accuracy: 0.8452 - loss: 0.3514 - val_accuracy: 0.8255 - val_loss: 0.3831 - learning_rate: 0.0010\n",
      "Epoch 3/12\n",
      "\u001b[1m167/167\u001b[0m \u001b[32m━━━━━━━━━━━━━━━━━━━━\u001b[0m\u001b[37m\u001b[0m \u001b[1m323s\u001b[0m 2s/step - accuracy: 0.8718 - loss: 0.3012 - val_accuracy: 0.8234 - val_loss: 0.3947 - learning_rate: 0.0010\n",
      "Epoch 4/12\n",
      "\u001b[1m167/167\u001b[0m \u001b[32m━━━━━━━━━━━━━━━━━━━━\u001b[0m\u001b[37m\u001b[0m \u001b[1m325s\u001b[0m 2s/step - accuracy: 0.8924 - loss: 0.2589 - val_accuracy: 0.8182 - val_loss: 0.4145 - learning_rate: 0.0010\n",
      "Epoch 5/12\n",
      "\u001b[1m167/167\u001b[0m \u001b[32m━━━━━━━━━━━━━━━━━━━━\u001b[0m\u001b[37m\u001b[0m \u001b[1m319s\u001b[0m 2s/step - accuracy: 0.9072 - loss: 0.2260 - val_accuracy: 0.8125 - val_loss: 0.4489 - learning_rate: 0.0010\n",
      "Epoch 6/12\n",
      "\u001b[1m167/167\u001b[0m \u001b[32m━━━━━━━━━━━━━━━━━━━━\u001b[0m\u001b[37m\u001b[0m \u001b[1m321s\u001b[0m 2s/step - accuracy: 0.9188 - loss: 0.1989 - val_accuracy: 0.8109 - val_loss: 0.5282 - learning_rate: 0.0010\n",
      "Epoch 7/12\n",
      "\u001b[1m167/167\u001b[0m \u001b[32m━━━━━━━━━━━━━━━━━━━━\u001b[0m\u001b[37m\u001b[0m \u001b[1m323s\u001b[0m 2s/step - accuracy: 0.9282 - loss: 0.1786 - val_accuracy: 0.8083 - val_loss: 0.5345 - learning_rate: 0.0010\n"
     ]
    }
   ],
   "source": [
    "history = training_model.fit(\n",
    "    X_train, y_train,\n",
    "    batch_size=1024,\n",
    "    epochs=12,\n",
    "    validation_split=0.1,\n",
    "    callbacks=callbacks,\n",
    "    verbose=1,\n",
    ")"
   ]
  },
  {
   "cell_type": "markdown",
   "id": "6f1a2405",
   "metadata": {
    "papermill": {
     "duration": 0.080098,
     "end_time": "2024-03-09T07:36:43.891054",
     "exception": false,
     "start_time": "2024-03-09T07:36:43.810956",
     "status": "completed"
    },
    "tags": []
   },
   "source": [
    "## <a id=\"11\">Evaluating Model</a>"
   ]
  },
  {
   "cell_type": "code",
   "execution_count": 23,
   "id": "7d9d7c49",
   "metadata": {
    "execution": {
     "iopub.execute_input": "2024-03-09T07:36:44.054210Z",
     "iopub.status.busy": "2024-03-09T07:36:44.053841Z",
     "iopub.status.idle": "2024-03-09T07:36:44.505338Z",
     "shell.execute_reply": "2024-03-09T07:36:44.504403Z"
    },
    "papermill": {
     "duration": 0.536552,
     "end_time": "2024-03-09T07:36:44.507238",
     "exception": false,
     "start_time": "2024-03-09T07:36:43.970686",
     "status": "completed"
    },
    "tags": []
   },
   "outputs": [
    {
     "data": {
      "image/png": "[encoded data removed]",
      "text/plain": [
       "<Figure size 640x480 with 1 Axes>"
      ]
     },
     "metadata": {},
     "output_type": "display_data"
    },
    {
     "data": {
      "image/png": "[encoded data removed]",
      "text/plain": [
       "<Figure size 640x480 with 1 Axes>"
      ]
     },
     "metadata": {},
     "output_type": "display_data"
    }
   ],
   "source": [
    "acc,  val_acc  = history.history['accuracy'], history.history['val_accuracy']\n",
    "loss, val_loss = history.history['loss'], history.history['val_loss']\n",
    "epochs = range(len(acc))\n",
    "\n",
    "plt.plot(epochs, acc, 'b', label='Training acc')\n",
    "plt.plot(epochs, val_acc, 'r', label='Validation acc')\n",
    "plt.title('Training and validation accuracy')\n",
    "plt.legend()\n",
    "\n",
    "plt.figure()\n",
    "\n",
    "plt.plot(epochs, loss, 'b', label='Training loss')\n",
    "plt.plot(epochs, val_loss, 'r', label='Validation loss')\n",
    "plt.title('Training and validation loss')\n",
    "plt.legend()\n",
    "\n",
    "plt.show()"
   ]
  },
  {
   "cell_type": "markdown",
   "id": "0b9abcc8",
   "metadata": {
    "papermill": {
     "duration": 0.079384,
     "end_time": "2024-03-09T07:36:44.665530",
     "exception": false,
     "start_time": "2024-03-09T07:36:44.586146",
     "status": "completed"
    },
    "tags": []
   },
   "source": [
    "### Confusion Matrix"
   ]
  },
  {
   "cell_type": "code",
   "execution_count": 24,
   "id": "fe85daae",
   "metadata": {
    "execution": {
     "iopub.execute_input": "2024-03-09T07:36:44.828637Z",
     "iopub.status.busy": "2024-03-09T07:36:44.828250Z",
     "iopub.status.idle": "2024-03-09T07:36:44.837010Z",
     "shell.execute_reply": "2024-03-09T07:36:44.835439Z"
    },
    "papermill": {
     "duration": 0.094876,
     "end_time": "2024-03-09T07:36:44.839806",
     "exception": false,
     "start_time": "2024-03-09T07:36:44.744930",
     "status": "completed"
    },
    "tags": []
   },
   "outputs": [],
   "source": [
    "from sklearn.metrics import confusion_matrix, classification_report\n",
    "\n",
    "def ConfusionMatrix(y_pred, y_test):\n",
    "    # Compute and plot the Confusion matrix\n",
    "    cf_matrix = confusion_matrix(y_test, y_pred)\n",
    "\n",
    "    categories  = ['Negative','Positive']\n",
    "    group_names = ['True Neg','False Pos', 'False Neg','True Pos']\n",
    "    group_percentages = ['{0:.2%}'.format(value) for value in cf_matrix.flatten() / np.sum(cf_matrix)]\n",
    "\n",
    "    labels = [f'{v1}\\n{v2}' for v1, v2 in zip(group_names,group_percentages)]\n",
    "    labels = np.asarray(labels).reshape(2,2)\n",
    "\n",
    "    sns.heatmap(cf_matrix, annot = labels, cmap = 'Blues',fmt = '',\n",
    "                xticklabels = categories, yticklabels = categories)\n",
    "\n",
    "    plt.xlabel(\"Predicted values\", fontdict = {'size':14}, labelpad = 10)\n",
    "    plt.ylabel(\"Actual values\"   , fontdict = {'size':14}, labelpad = 10)\n",
    "    plt.title (\"Confusion Matrix\", fontdict = {'size':18}, pad = 20)"
   ]
  },
  {
   "cell_type": "code",
   "execution_count": 25,
   "id": "7fb7f444",
   "metadata": {
    "execution": {
     "iopub.execute_input": "2024-03-09T07:36:45.013597Z",
     "iopub.status.busy": "2024-03-09T07:36:45.013270Z",
     "iopub.status.idle": "2024-03-09T07:36:57.746086Z",
     "shell.execute_reply": "2024-03-09T07:36:57.744786Z"
    },
    "papermill": {
     "duration": 12.829565,
     "end_time": "2024-03-09T07:36:57.748657",
     "exception": false,
     "start_time": "2024-03-09T07:36:44.919092",
     "status": "completed"
    },
    "tags": []
   },
   "outputs": [
    {
     "name": "stdout",
     "output_type": "stream",
     "text": [
      "\u001b[1m313/313\u001b[0m \u001b[32m━━━━━━━━━━━━━━━━━━━━\u001b[0m\u001b[37m\u001b[0m \u001b[1m12s\u001b[0m 38ms/step\n"
     ]
    },
    {
     "data": {
      "image/png": "[encoded data removed]",
      "text/plain": [
       "<Figure size 640x480 with 2 Axes>"
      ]
     },
     "metadata": {},
     "output_type": "display_data"
    }
   ],
   "source": [
    "# Predicting on the Test dataset.\n",
    "y_pred = training_model.predict(X_test)\n",
    "\n",
    "# Converting prediction to reflect the sentiment predicted.\n",
    "y_pred = np.where(y_pred>=0.5, 1, 0)\n",
    "\n",
    "# Printing out the Evaluation metrics. \n",
    "ConfusionMatrix(y_pred, y_test)"
   ]
  },
  {
   "cell_type": "markdown",
   "id": "cbfbcc7f",
   "metadata": {
    "papermill": {
     "duration": 0.091439,
     "end_time": "2024-03-09T07:36:57.931827",
     "exception": false,
     "start_time": "2024-03-09T07:36:57.840388",
     "status": "completed"
    },
    "tags": []
   },
   "source": [
    "### Classification Report"
   ]
  },
  {
   "cell_type": "code",
   "execution_count": 26,
   "id": "64f79952",
   "metadata": {
    "execution": {
     "iopub.execute_input": "2024-03-09T07:36:58.117686Z",
     "iopub.status.busy": "2024-03-09T07:36:58.117044Z",
     "iopub.status.idle": "2024-03-09T07:36:58.141210Z",
     "shell.execute_reply": "2024-03-09T07:36:58.139746Z"
    },
    "papermill": {
     "duration": 0.119987,
     "end_time": "2024-03-09T07:36:58.143582",
     "exception": false,
     "start_time": "2024-03-09T07:36:58.023595",
     "status": "completed"
    },
    "tags": []
   },
   "outputs": [
    {
     "name": "stdout",
     "output_type": "stream",
     "text": [
      "              precision    recall  f1-score   support\n",
      "\n",
      "           0       0.82      0.78      0.80      4988\n",
      "           1       0.80      0.83      0.81      5012\n",
      "\n",
      "    accuracy                           0.81     10000\n",
      "   macro avg       0.81      0.81      0.81     10000\n",
      "weighted avg       0.81      0.81      0.81     10000\n",
      "\n"
     ]
    }
   ],
   "source": [
    "# Print the evaluation metrics for the dataset.\n",
    "print(classification_report(y_test, y_pred))"
   ]
  },
  {
   "cell_type": "markdown",
   "id": "94f8f5ee",
   "metadata": {
    "papermill": {
     "duration": 0.089599,
     "end_time": "2024-03-09T07:36:58.322955",
     "exception": false,
     "start_time": "2024-03-09T07:36:58.233356",
     "status": "completed"
    },
    "tags": []
   },
   "source": [
    "## <a id=\"12\">Saving the Model</a>\n",
    "\n"
   ]
  },
  {
   "cell_type": "code",
   "execution_count": 27,
   "id": "6fbc1a1e",
   "metadata": {
    "execution": {
     "iopub.execute_input": "2024-03-09T07:36:58.570238Z",
     "iopub.status.busy": "2024-03-09T07:36:58.569263Z",
     "iopub.status.idle": "2024-03-09T07:36:59.453836Z",
     "shell.execute_reply": "2024-03-09T07:36:59.452658Z"
    },
    "papermill": {
     "duration": 0.977603,
     "end_time": "2024-03-09T07:36:59.456198",
     "exception": false,
     "start_time": "2024-03-09T07:36:58.478595",
     "status": "completed"
    },
    "tags": []
   },
   "outputs": [],
   "source": [
    "# Saving Word2Vec-Model\n",
    "word2vec_model.wv.save('Word2Vec-twitter-100.h5')\n",
    "word2vec_model.wv.save_word2vec_format('Word2Vec-twitter-100-trainable.h5')\n",
    "\n",
    "# Saving the tokenizer\n",
    "with open('Tokenizer.pickle', 'wb') as file:\n",
    "    pickle.dump(tokenizer, file)\n",
    "\n"
   ]
  }
 ],
 "metadata": {
  "kaggle": {
   "accelerator": "gpu",
   "dataSources": [
    {
     "datasetId": 2477,
     "sourceId": 4140,
     "sourceType": "datasetVersion"
    },
    {
     "datasetId": 697638,
     "sourceId": 1220322,
     "sourceType": "datasetVersion"
    },
    {
     "sourceId": 67048613,
     "sourceType": "kernelVersion"
    }
   ],
   "isGpuEnabled": true,
   "isInternetEnabled": false,
   "language": "python",
   "sourceType": "notebook"
  },
  "kernelspec": {
   "display_name": "Python 3",
   "language": "python",
   "name": "python3"
  },
  "language_info": {
   "codemirror_mode": {
    "name": "ipython",
    "version": 3
   },
   "file_extension": ".py",
   "mimetype": "text/x-python",
   "name": "python",
   "nbconvert_exporter": "python",
   "pygments_lexer": "ipython3",
   "version": "3.10.13"
  },
  "papermill": {
   "default_parameters": {},
   "duration": 2374.72568,
   "end_time": "2024-03-09T07:37:02.569820",
   "environment_variables": {},
   "exception": null,
   "input_path": "__notebook__.ipynb",
   "output_path": "__notebook__.ipynb",
   "parameters": {},
   "start_time": "2024-03-09T06:57:27.844140",
   "version": "2.5.0"
  }
 },
 "nbformat": 4,
 "nbformat_minor": 5
}
